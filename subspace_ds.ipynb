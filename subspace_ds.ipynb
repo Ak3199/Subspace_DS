{
  "nbformat": 4,
  "nbformat_minor": 0,
  "metadata": {
    "colab": {
      "provenance": [],
      "authorship_tag": "ABX9TyNFFkbzituEBHzg+ndvhXnl",
      "include_colab_link": true
    },
    "kernelspec": {
      "name": "python3",
      "display_name": "Python 3"
    },
    "language_info": {
      "name": "python"
    }
  },
  "cells": [
    {
      "cell_type": "markdown",
      "metadata": {
        "id": "view-in-github",
        "colab_type": "text"
      },
      "source": [
        "<a href=\"https://colab.research.google.com/github/Ak3199/Subspace_DS/blob/main/subspace_ds.ipynb\" target=\"_parent\"><img src=\"https://colab.research.google.com/assets/colab-badge.svg\" alt=\"Open In Colab\"/></a>"
      ]
    },
    {
      "cell_type": "markdown",
      "source": [
        "## Introduction\n",
        "This code implements techniques to extract the \"expiry date\" of subscription of various mobile applications, provided via screenshot or an actual image of that appliation screen. To efficiently extract the text information, I have used OpenCV, Pytesseract and RegEx. "
      ],
      "metadata": {
        "id": "P6yuCHdxtsGz"
      }
    },
    {
      "cell_type": "code",
      "source": [
        "!sudo apt install tesseract-ocr\n",
        "!pip install pytesseract"
      ],
      "metadata": {
        "id": "IWYn2ha8ccJQ"
      },
      "execution_count": null,
      "outputs": []
    },
    {
      "cell_type": "markdown",
      "source": [
        "# Importing the libraries"
      ],
      "metadata": {
        "id": "qzsm8XjJlSsY"
      }
    },
    {
      "cell_type": "code",
      "source": [
        "from multiprocessing.sharedctypes import Value\n",
        "from operator import index\n",
        "import pandas as pd\n",
        "import json\n",
        "from pytesseract import pytesseract \n",
        "import urllib.request\n",
        "from PIL import Image\n",
        "import requests\n",
        "import cv2 \n",
        "import numpy as np\n",
        "import re\n",
        "from datetime import datetime\n",
        "from datetime import timedelta\n",
        "from dateutil.relativedelta import relativedelta"
      ],
      "metadata": {
        "id": "Vml_vTSIk3vL"
      },
      "execution_count": null,
      "outputs": []
    },
    {
      "cell_type": "markdown",
      "source": [
        "Uploading the file to Google Colab"
      ],
      "metadata": {
        "id": "lgU-2yHlPpbu"
      }
    },
    {
      "cell_type": "code",
      "source": [
        "from google.colab import files\n",
        "uploaded = files.upload()"
      ],
      "metadata": {
        "colab": {
          "base_uri": "https://localhost:8080/",
          "height": 73
        },
        "id": "fMLvm0XvleGt",
        "outputId": "586acb77-d2be-4c48-8b46-3edca458c8b9"
      },
      "execution_count": null,
      "outputs": [
        {
          "output_type": "display_data",
          "data": {
            "text/plain": [
              "<IPython.core.display.HTML object>"
            ],
            "text/html": [
              "\n",
              "     <input type=\"file\" id=\"files-fc3f650b-c06a-480a-8460-0c2d85972add\" name=\"files[]\" multiple disabled\n",
              "        style=\"border:none\" />\n",
              "     <output id=\"result-fc3f650b-c06a-480a-8460-0c2d85972add\">\n",
              "      Upload widget is only available when the cell has been executed in the\n",
              "      current browser session. Please rerun this cell to enable.\n",
              "      </output>\n",
              "      <script>// Copyright 2017 Google LLC\n",
              "//\n",
              "// Licensed under the Apache License, Version 2.0 (the \"License\");\n",
              "// you may not use this file except in compliance with the License.\n",
              "// You may obtain a copy of the License at\n",
              "//\n",
              "//      http://www.apache.org/licenses/LICENSE-2.0\n",
              "//\n",
              "// Unless required by applicable law or agreed to in writing, software\n",
              "// distributed under the License is distributed on an \"AS IS\" BASIS,\n",
              "// WITHOUT WARRANTIES OR CONDITIONS OF ANY KIND, either express or implied.\n",
              "// See the License for the specific language governing permissions and\n",
              "// limitations under the License.\n",
              "\n",
              "/**\n",
              " * @fileoverview Helpers for google.colab Python module.\n",
              " */\n",
              "(function(scope) {\n",
              "function span(text, styleAttributes = {}) {\n",
              "  const element = document.createElement('span');\n",
              "  element.textContent = text;\n",
              "  for (const key of Object.keys(styleAttributes)) {\n",
              "    element.style[key] = styleAttributes[key];\n",
              "  }\n",
              "  return element;\n",
              "}\n",
              "\n",
              "// Max number of bytes which will be uploaded at a time.\n",
              "const MAX_PAYLOAD_SIZE = 100 * 1024;\n",
              "\n",
              "function _uploadFiles(inputId, outputId) {\n",
              "  const steps = uploadFilesStep(inputId, outputId);\n",
              "  const outputElement = document.getElementById(outputId);\n",
              "  // Cache steps on the outputElement to make it available for the next call\n",
              "  // to uploadFilesContinue from Python.\n",
              "  outputElement.steps = steps;\n",
              "\n",
              "  return _uploadFilesContinue(outputId);\n",
              "}\n",
              "\n",
              "// This is roughly an async generator (not supported in the browser yet),\n",
              "// where there are multiple asynchronous steps and the Python side is going\n",
              "// to poll for completion of each step.\n",
              "// This uses a Promise to block the python side on completion of each step,\n",
              "// then passes the result of the previous step as the input to the next step.\n",
              "function _uploadFilesContinue(outputId) {\n",
              "  const outputElement = document.getElementById(outputId);\n",
              "  const steps = outputElement.steps;\n",
              "\n",
              "  const next = steps.next(outputElement.lastPromiseValue);\n",
              "  return Promise.resolve(next.value.promise).then((value) => {\n",
              "    // Cache the last promise value to make it available to the next\n",
              "    // step of the generator.\n",
              "    outputElement.lastPromiseValue = value;\n",
              "    return next.value.response;\n",
              "  });\n",
              "}\n",
              "\n",
              "/**\n",
              " * Generator function which is called between each async step of the upload\n",
              " * process.\n",
              " * @param {string} inputId Element ID of the input file picker element.\n",
              " * @param {string} outputId Element ID of the output display.\n",
              " * @return {!Iterable<!Object>} Iterable of next steps.\n",
              " */\n",
              "function* uploadFilesStep(inputId, outputId) {\n",
              "  const inputElement = document.getElementById(inputId);\n",
              "  inputElement.disabled = false;\n",
              "\n",
              "  const outputElement = document.getElementById(outputId);\n",
              "  outputElement.innerHTML = '';\n",
              "\n",
              "  const pickedPromise = new Promise((resolve) => {\n",
              "    inputElement.addEventListener('change', (e) => {\n",
              "      resolve(e.target.files);\n",
              "    });\n",
              "  });\n",
              "\n",
              "  const cancel = document.createElement('button');\n",
              "  inputElement.parentElement.appendChild(cancel);\n",
              "  cancel.textContent = 'Cancel upload';\n",
              "  const cancelPromise = new Promise((resolve) => {\n",
              "    cancel.onclick = () => {\n",
              "      resolve(null);\n",
              "    };\n",
              "  });\n",
              "\n",
              "  // Wait for the user to pick the files.\n",
              "  const files = yield {\n",
              "    promise: Promise.race([pickedPromise, cancelPromise]),\n",
              "    response: {\n",
              "      action: 'starting',\n",
              "    }\n",
              "  };\n",
              "\n",
              "  cancel.remove();\n",
              "\n",
              "  // Disable the input element since further picks are not allowed.\n",
              "  inputElement.disabled = true;\n",
              "\n",
              "  if (!files) {\n",
              "    return {\n",
              "      response: {\n",
              "        action: 'complete',\n",
              "      }\n",
              "    };\n",
              "  }\n",
              "\n",
              "  for (const file of files) {\n",
              "    const li = document.createElement('li');\n",
              "    li.append(span(file.name, {fontWeight: 'bold'}));\n",
              "    li.append(span(\n",
              "        `(${file.type || 'n/a'}) - ${file.size} bytes, ` +\n",
              "        `last modified: ${\n",
              "            file.lastModifiedDate ? file.lastModifiedDate.toLocaleDateString() :\n",
              "                                    'n/a'} - `));\n",
              "    const percent = span('0% done');\n",
              "    li.appendChild(percent);\n",
              "\n",
              "    outputElement.appendChild(li);\n",
              "\n",
              "    const fileDataPromise = new Promise((resolve) => {\n",
              "      const reader = new FileReader();\n",
              "      reader.onload = (e) => {\n",
              "        resolve(e.target.result);\n",
              "      };\n",
              "      reader.readAsArrayBuffer(file);\n",
              "    });\n",
              "    // Wait for the data to be ready.\n",
              "    let fileData = yield {\n",
              "      promise: fileDataPromise,\n",
              "      response: {\n",
              "        action: 'continue',\n",
              "      }\n",
              "    };\n",
              "\n",
              "    // Use a chunked sending to avoid message size limits. See b/62115660.\n",
              "    let position = 0;\n",
              "    do {\n",
              "      const length = Math.min(fileData.byteLength - position, MAX_PAYLOAD_SIZE);\n",
              "      const chunk = new Uint8Array(fileData, position, length);\n",
              "      position += length;\n",
              "\n",
              "      const base64 = btoa(String.fromCharCode.apply(null, chunk));\n",
              "      yield {\n",
              "        response: {\n",
              "          action: 'append',\n",
              "          file: file.name,\n",
              "          data: base64,\n",
              "        },\n",
              "      };\n",
              "\n",
              "      let percentDone = fileData.byteLength === 0 ?\n",
              "          100 :\n",
              "          Math.round((position / fileData.byteLength) * 100);\n",
              "      percent.textContent = `${percentDone}% done`;\n",
              "\n",
              "    } while (position < fileData.byteLength);\n",
              "  }\n",
              "\n",
              "  // All done.\n",
              "  yield {\n",
              "    response: {\n",
              "      action: 'complete',\n",
              "    }\n",
              "  };\n",
              "}\n",
              "\n",
              "scope.google = scope.google || {};\n",
              "scope.google.colab = scope.google.colab || {};\n",
              "scope.google.colab._files = {\n",
              "  _uploadFiles,\n",
              "  _uploadFilesContinue,\n",
              "};\n",
              "})(self);\n",
              "</script> "
            ]
          },
          "metadata": {}
        },
        {
          "output_type": "stream",
          "name": "stdout",
          "text": [
            "Saving data.json to data (1).json\n"
          ]
        }
      ]
    },
    {
      "cell_type": "markdown",
      "source": [
        "Reading the json file and creating the pytesseract path"
      ],
      "metadata": {
        "id": "GKBXHpEePwc0"
      }
    },
    {
      "cell_type": "code",
      "source": [
        "data = pd.read_json(\"data.json\")\n",
        "\n",
        "# path_to_tesseract = r'/usr/local/lib/python3.7/dist-packages/tesseract.exe' #creating the pytesseract path\n",
        "# pytesseract.tesseract_cmd = path_to_tesseract"
      ],
      "metadata": {
        "id": "GAHWo1Bz5MDB"
      },
      "execution_count": null,
      "outputs": []
    },
    {
      "cell_type": "markdown",
      "source": [
        "# Image Pre-Processing"
      ],
      "metadata": {
        "id": "62G7D4ZOP2u7"
      }
    },
    {
      "cell_type": "code",
      "source": [
        "def process_img(s):  #function for processing image and making it the most suitable for pytesseract to work on\n",
        "    image = cv2.imread(s)\n",
        "    gray_image = cv2.cvtColor(image, cv2.COLOR_BGR2GRAY)  # transform to grayscale\n",
        "    blur = cv2.GaussianBlur(gray_image, (3,3), 0)   #blurring the image\n",
        "    threshold =  cv2.threshold(blur,0,255,cv2.THRESH_BINARY_INV + cv2.THRESH_OTSU)[1]\n",
        "    kernel=cv2.getStructuringElement(cv2.MORPH_RECT,(3,3))\n",
        "    opening = cv2.morphologyEx(threshold, cv2.MORPH_OPEN, kernel, iterations=1)\n",
        "    img_erosion = cv2.erode(opening, kernel, iterations=1)\n",
        "    img_dilation = cv2.dilate(img_erosion, kernel, iterations=1)\n",
        "    invert = 255 - img_dilation\n",
        "    clean_image=pytesseract.image_to_string(s)  #contains the string of extracted text from the cleaned image\n",
        "    return clean_image"
      ],
      "metadata": {
        "id": "CwkgGVrh5mE7"
      },
      "execution_count": null,
      "outputs": []
    },
    {
      "cell_type": "markdown",
      "source": [
        "##Trying another branch of code where we don't need to pre-process\n",
        "## (Testing the accuracy of pytesseract)"
      ],
      "metadata": {
        "id": "oUZWNSqCLd4i"
      }
    },
    {
      "cell_type": "code",
      "source": [
        "def process_img(s): \n",
        "  clean_image=pytesseract.image_to_string(s)  #contains the string of extracted text from the cleaned image\n",
        "  return clean_image\n"
      ],
      "metadata": {
        "id": "-b3i9akPLc8b"
      },
      "execution_count": null,
      "outputs": []
    },
    {
      "cell_type": "markdown",
      "source": [
        "Text being stored in a list called compile"
      ],
      "metadata": {
        "id": "e5X3ONQdQA0N"
      }
    },
    {
      "cell_type": "code",
      "source": [
        "compile=[]\n",
        "for i in data.iloc[:50,0]:\n",
        "    r=requests.get(i)       #opening the URL provided in the data base\n",
        "    with open('test.jpeg','wb') as f:\n",
        "        f.write(r.content)\n",
        "    img=Image.open('test.jpeg')\n",
        "    incoming = process_img('test.jpeg')\n",
        "    compile.append([incoming])      #contains all the text extracted from the image as a list\n"
      ],
      "metadata": {
        "id": "9JaTeVWL5qjc"
      },
      "execution_count": null,
      "outputs": []
    },
    {
      "cell_type": "code",
      "source": [
        "img_data=pd.DataFrame(compile)          #converting the list into a dataframe\n",
        "img_data.columns=[\"text_from_image\"]"
      ],
      "metadata": {
        "id": "mc1O3o8AEuL_"
      },
      "execution_count": null,
      "outputs": []
    },
    {
      "cell_type": "markdown",
      "source": [
        "Regex expressions"
      ],
      "metadata": {
        "id": "2vS6LnsQP9gl"
      }
    },
    {
      "cell_type": "code",
      "source": [
        "def find_date(text):\n",
        "    regex = r\"((19|20)?\\d{1,2}\\s?[-/]\\s?\\d{1,2}\\s?[-/]\\s?(19|20)?\\d{2})|\"\\\n",
        "    r\"((Jan|Feb|Mar|Apr|May|Jun|June|Jul|Aug|Sept|Sep|Oct|Nov|Dec)\"\\\n",
        "    r\"\\s?\\d{1,2}\\s?[,']?\\s?(19|20)?\\d{2})|(\\d{1,2}\\s?[-/]?\\s?\"\\\n",
        "    r\"(Jan|Feb|Mar|Apr|May|Jun|June|Jul|Aug|Sept|Sep|Oct|Nov|Dec)\"\\\n",
        "    r\"\\s?[',-/]?\\s?(19|20)?\\d{1,2})\"\n",
        "    pattern = re.compile(regex, flags=re.IGNORECASE)\n",
        "    matches = list(re.finditer(pattern, text))\n",
        "    if len(matches)==0:\n",
        "        return None\n",
        "    date = matches[0].group(0)\n",
        "    return date"
      ],
      "metadata": {
        "id": "n-OUHCuQVfN8"
      },
      "execution_count": null,
      "outputs": []
    },
    {
      "cell_type": "code",
      "source": [
        "date_dict={}        #date information\n",
        "for i in img_data.index:    \n",
        "    string = img_data['text_from_image'][i]\n",
        "    date=find_date(string)\n",
        "    date_dict[i]=date #creating a dictionary with key as index and value as time extracted from the text"
      ],
      "metadata": {
        "id": "fX-0VviClgO0"
      },
      "execution_count": null,
      "outputs": []
    },
    {
      "cell_type": "markdown",
      "source": [
        "Homogenizing the extracted dates in the same format"
      ],
      "metadata": {
        "id": "dk6y1NsGQM1B"
      }
    },
    {
      "cell_type": "code",
      "source": [
        "def uniform_time(string):       #this function is used to get time in different formats into a single datetime.datetime format for easy operations\n",
        "    if string==None:\n",
        "        return\n",
        "    for fmt in (\"%d/%m/%Y\",\"%d %b '%y\",\"%d %b %Y\",\"%d-%b-%y\",\"%b %d, %Y\",\"%Y %m %d\",\"%d-%m-%Y\"):\n",
        "        try:\n",
        "            return datetime.strptime(string,fmt)\n",
        "        except ValueError:\n",
        "            continue"
      ],
      "metadata": {
        "id": "zuSfyVt-Opxq"
      },
      "execution_count": null,
      "outputs": []
    },
    {
      "cell_type": "code",
      "source": [
        "for i,j in date_dict.items():\n",
        "    D=uniform_time(j)\n",
        "    date_dict[i]=D  "
      ],
      "metadata": {
        "id": "RyCCRgOkOwHV"
      },
      "execution_count": null,
      "outputs": []
    },
    {
      "cell_type": "markdown",
      "source": [
        "For getting the expiry dates"
      ],
      "metadata": {
        "id": "DYhP0NotQIYC"
      }
    },
    {
      "cell_type": "code",
      "source": [
        "d1=datetime.now()\n",
        "for i,j in date_dict.items():\n",
        "    d2=j\n",
        "    try:\n",
        "        delta=d2-d1     #difference between todays date and the date extracted from the text\n",
        "        if delta.days>=0: #future expiry\n",
        "            date_dict[i]=d2 #simply storing in the original dictionary\n",
        "        else:\n",
        "            a=data['whatsub_plan']\n",
        "            dur=a[i]['duration']\n",
        "            type=a[i]['duration_type']\n",
        "            if type in [\"month\",\"months\",\"Month\",\"Months\"]:     #if plan duration is Months then adding the required number of months\n",
        "                DATE=d2+relativedelta(months=dur)\n",
        "                date_dict[i]=DATE\n",
        "            elif type in [\"year\",\"years\",\"Year\",\"Years\"]:       #if plan duration is years then adding the required number of years\n",
        "                DATE=d2+relativedelta(years=dur)\n",
        "                date_dict[i]=DATE\n",
        "    except:\n",
        "        continue\n",
        "print(date_dict)"
      ],
      "metadata": {
        "id": "opCaBX9POwxW",
        "colab": {
          "base_uri": "https://localhost:8080/"
        },
        "outputId": "9ce9dcbb-eb4e-40eb-8188-8de0dbf41fde"
      },
      "execution_count": null,
      "outputs": [
        {
          "output_type": "stream",
          "name": "stdout",
          "text": [
            "{0: datetime.datetime(2023, 5, 13, 0, 0), 1: None, 2: None, 3: datetime.datetime(2022, 10, 22, 0, 0), 4: None, 5: datetime.datetime(2022, 10, 22, 0, 0), 6: None, 7: None, 8: None, 9: None, 10: None, 11: datetime.datetime(2023, 4, 13, 0, 0), 12: None, 13: None, 14: None, 15: None, 16: datetime.datetime(2023, 6, 23, 0, 0), 17: None, 18: datetime.datetime(2023, 6, 23, 0, 0), 19: None, 20: None, 21: None, 22: None, 23: None, 24: None, 25: datetime.datetime(2023, 8, 31, 0, 0), 26: None, 27: None, 28: None, 29: datetime.datetime(2023, 5, 16, 0, 0), 30: None, 31: None, 32: datetime.datetime(2023, 4, 17, 0, 0), 33: datetime.datetime(2023, 8, 31, 0, 0), 34: None, 35: None, 36: datetime.datetime(2023, 7, 5, 0, 0), 37: None, 38: None, 39: None, 40: None, 41: None, 42: None, 43: None, 44: datetime.datetime(2022, 12, 19, 0, 0), 45: None, 46: None, 47: datetime.datetime(2023, 6, 20, 0, 0), 48: None, 49: None}\n"
          ]
        }
      ]
    },
    {
      "cell_type": "markdown",
      "source": [
        "Accuracy Calculation when comapred to the \"expiry date\" from the original dataframe"
      ],
      "metadata": {
        "id": "s6tBZIF_QRYh"
      }
    },
    {
      "cell_type": "code",
      "source": [
        "#calculating accuracy (optional)\n",
        "count=0\n",
        "j=0\n",
        "for i in data.iloc[:50,1]:\n",
        "    if date_dict[j]==i:\n",
        "        count+=1\n",
        "    j+=1\n",
        "print(\"Accuracy \", (count/20)*100)"
      ],
      "metadata": {
        "id": "NQIIjWMfOzbU",
        "colab": {
          "base_uri": "https://localhost:8080/"
        },
        "outputId": "53064cbc-d142-4e7b-dc7b-f2becf4d4d9e"
      },
      "execution_count": null,
      "outputs": [
        {
          "output_type": "stream",
          "name": "stdout",
          "text": [
            "Accuracy  45.0\n"
          ]
        }
      ]
    }
  ]
}